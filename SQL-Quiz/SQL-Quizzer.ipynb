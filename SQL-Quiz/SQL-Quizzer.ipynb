{
 "cells": [
  {
   "cell_type": "code",
   "execution_count": 62,
   "id": "1aed9774-2cec-48bd-a089-5b39dfdc5fbe",
   "metadata": {},
   "outputs": [
    {
     "name": "stdout",
     "output_type": "stream",
     "text": [
      "\u001b[1mQuestion:\u001b[0m\n",
      "52. Book Authors: Retrieve book titles and their authors.\n",
      "\u001b[1mExpected Output:\u001b[0m\n",
      "book_title = \"1984\", author_name = \"George Orwell\"\n"
     ]
    }
   ],
   "source": [
    "import pandas as pd\n",
    "import numpy as np\n",
    "import re\n",
    "\n",
    "# Define ANSI escape codes for bold, red, and reset text\n",
    "BOLD = '\\033[1m'\n",
    "RED = '\\033[31m'\n",
    "RESET = '\\033[0m'\n",
    "\n",
    "# Function to normalize answers by removing commas, extra spaces, and converting to lowercase\n",
    "def normalize_text(text):\n",
    "    return re.sub(r'\\s+', ' ', text.replace(',', '')).strip().lower()\n",
    "\n",
    "# Function to highlight differences\n",
    "def highlight_differences(correct, user):\n",
    "    highlighted_correct = []\n",
    "    highlighted_user = []\n",
    "    max_len = max(len(correct), len(user))\n",
    "    \n",
    "    for i in range(max_len):\n",
    "        char_correct = correct[i] if i < len(correct) else ''\n",
    "        char_user = user[i] if i < len(user) else ''\n",
    "        \n",
    "        if char_correct != char_user:\n",
    "            highlighted_correct.append(f\"{BOLD}{char_correct}{RESET}\")\n",
    "            highlighted_user.append(f\"{RED}{char_user}{RESET}\")\n",
    "        else:\n",
    "            highlighted_correct.append(char_correct)\n",
    "            highlighted_user.append(char_user)\n",
    "    \n",
    "    return ''.join(highlighted_correct), ''.join(highlighted_user)\n",
    "\n",
    "def format_sql_query(query):\n",
    "    keywords = ['SELECT', 'FROM', 'WHERE', 'GROUP BY', 'ORDER BY', 'HAVING', 'JOIN', 'ON', 'INNER JOIN', 'LEFT JOIN', 'RIGHT JOIN', 'FULL JOIN']\n",
    "    for keyword in keywords:\n",
    "        query = query.replace(keyword, f'\\n{keyword}')\n",
    "    return query.strip()\n",
    "    \n",
    "df = pd.read_csv('SQL LAB - Sheet1.csv')\n",
    "\n",
    "# Select a random row\n",
    "random_row = df.sample(1).iloc[0]\n",
    "\n",
    "# Extract the question, expected output, and answer\n",
    "question = random_row['Question']\n",
    "expected_output = random_row['Expected Output']\n",
    "stored_answer = random_row['Answer (Query)']\n",
    "\n",
    "# Print the question and expected output\n",
    "print(f\"{BOLD}Question:{RESET}\")\n",
    "print(question)\n",
    "print(f\"{BOLD}Expected Output:{RESET}\")\n",
    "print(expected_output)\n",
    "\n",
    "normalized_stored_answer = normalize_text(stored_answer)"
   ]
  },
  {
   "cell_type": "code",
   "execution_count": null,
   "id": "f921d682-b7ce-4525-b94b-7a28ce10ac01",
   "metadata": {},
   "outputs": [],
   "source": []
  },
  {
   "cell_type": "markdown",
   "id": "80204036-2659-42f4-93aa-f266bf10bc57",
   "metadata": {},
   "source": [
    "# a = \"\""
   ]
  },
  {
   "cell_type": "code",
   "execution_count": 65,
   "id": "4ba27277-6792-4517-8b25-d06ec210f34d",
   "metadata": {},
   "outputs": [],
   "source": [
    "a =\"SELECT Books.title, Authors.name FROM Books INNER JOIN Authors ON Books.author_id = Authors.id;\""
   ]
  },
  {
   "cell_type": "code",
   "execution_count": null,
   "id": "3a5c1834-747b-4f84-a3c2-805e5d3205f9",
   "metadata": {},
   "outputs": [],
   "source": []
  },
  {
   "cell_type": "code",
   "execution_count": 66,
   "id": "15ae6f90-7f0c-4d35-9027-87384dec69c0",
   "metadata": {},
   "outputs": [
    {
     "name": "stdout",
     "output_type": "stream",
     "text": [
      "Correct!\n"
     ]
    }
   ],
   "source": [
    "normalized_user_answer = normalize_text(a)\n",
    "\n",
    "# Compare and highlight differences\n",
    "if normalized_user_answer == normalized_stored_answer:\n",
    "    print(\"Correct!\")\n",
    "else:\n",
    "    print(\"Incorrect\")\n",
    "    print(\"The correct answer is:\")\n",
    "    highlighted_correct, highlighted_user = highlight_differences(stored_answer, a)\n",
    "    \n",
    "    # Print formatted answers\n",
    "    print(f\"{BOLD}Correct Answer:{RESET}\\n{format_sql_query(highlighted_correct)}\")\n",
    "    print(\"\")\n",
    "    print(f\"{BOLD}Your Answer:{RESET}\\n{format_sql_query(highlighted_user)}\")"
   ]
  },
  {
   "cell_type": "code",
   "execution_count": null,
   "id": "66c1eb7f-d0da-4467-aeb6-d5af175a682b",
   "metadata": {},
   "outputs": [],
   "source": []
  },
  {
   "cell_type": "code",
   "execution_count": null,
   "id": "b57f4401-4ec9-4a88-8be9-4ab3ab5eea2d",
   "metadata": {},
   "outputs": [],
   "source": []
  }
 ],
 "metadata": {
  "kernelspec": {
   "display_name": "Python 3 (ipykernel)",
   "language": "python",
   "name": "python3"
  },
  "language_info": {
   "codemirror_mode": {
    "name": "ipython",
    "version": 3
   },
   "file_extension": ".py",
   "mimetype": "text/x-python",
   "name": "python",
   "nbconvert_exporter": "python",
   "pygments_lexer": "ipython3",
   "version": "3.12.4"
  }
 },
 "nbformat": 4,
 "nbformat_minor": 5
}
